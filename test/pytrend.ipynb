{
 "cells": [
  {
   "cell_type": "code",
   "execution_count": null,
   "id": "78b8df6d",
   "metadata": {},
   "outputs": [
    {
     "name": "stdout",
     "output_type": "stream",
     "text": [
      "Trending keywords:\n",
      "[]\n",
      "\n",
      "Full DataFrame:\n",
      "{'status': 'error', 'message': 'The request failed: Google returned a response with code 404'}\n"
     ]
    }
   ],
   "source": [
    "import asyncio\n",
    "from pytrends.request import TrendReq\n",
    "\n",
    "async def get_trending_keywords(geo: str = 'india'):\n",
    "    pytrends = TrendReq(hl=\"en-US\", tz=360)\n",
    "    loop = asyncio.get_event_loop()\n",
    "\n",
    "    try:\n",
    "        # Run the blocking trending_searches call in executor\n",
    "        trending_df = await loop.run_in_executor(None, lambda: pytrends.trending_searches(pn=geo))\n",
    "        # Convert first column to a list of keywords\n",
    "        keywords = trending_df[0].tolist()\n",
    "        return keywords, trending_df\n",
    "    except Exception as e:\n",
    "        return [], {\"status\": \"error\", \"message\": str(e)}\n",
    "\n",
    "# ✅ Jupyter: use await directly\n",
    "keywords, trending_df = await get_trending_keywords('india')\n",
    "\n",
    "print(\"Trending keywords:\")\n",
    "print(keywords)\n",
    "\n",
    "print(\"\\nFull DataFrame:\")\n",
    "print(trending_df)"
   ]
  },
  {
   "cell_type": "code",
   "execution_count": null,
   "id": "d96b0f08",
   "metadata": {},
   "outputs": [],
   "source": []
  }
 ],
 "metadata": {
  "kernelspec": {
   "display_name": ".venv",
   "language": "python",
   "name": "python3"
  },
  "language_info": {
   "codemirror_mode": {
    "name": "ipython",
    "version": 3
   },
   "file_extension": ".py",
   "mimetype": "text/x-python",
   "name": "python",
   "nbconvert_exporter": "python",
   "pygments_lexer": "ipython3",
   "version": "3.12.3"
  }
 },
 "nbformat": 4,
 "nbformat_minor": 5
}
